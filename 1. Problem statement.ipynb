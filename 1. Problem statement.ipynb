{
 "cells": [
  {
   "cell_type": "markdown",
   "id": "9469874a",
   "metadata": {},
   "source": [
    "# Problem \n",
    "Stroke remains one of the leading causes of disability and death worldwide, making its prevention a critical healthcare priority. Identifying individuals at risk requires a proactive and systematic approach, yet many healthcare providers struggle due to the lack of structured methods for analyzing patient records. Without the ability to detect patterns linked to stroke risk effectively, delivering timely and personalized interventions becomes a challenge. This gap underscores the urgent need for comprehensive patient data analysis to enhance risk prediction and optimize stroke prevention strategies."
   ]
  },
  {
   "cell_type": "markdown",
   "id": "d5b88388",
   "metadata": {},
   "source": [
    "# Objective\n",
    "This project is dedicated to analyzing patient health records to uncover patterns and risk factors linked to stroke. By applying both unsupervised and supervised learning techniques, the goal is to classify patients into distinct groups based on their health profiles and risk levels. These insights will empower healthcare providers to implement targeted interventions for those at higher risk, ultimately enhancing stroke prevention and management efforts. Furthermore, the project aims to develop predictive models capable of accurately identifying at-risk individuals, enabling earlier intervention and more efficient resource allocation."
   ]
  },
  {
   "cell_type": "markdown",
   "id": "94a12560",
   "metadata": {},
   "source": [
    "# Data Attribute\n",
    "population details\n",
    "- id : Patient's unique identifier\n",
    "- gender : Patient's gender (Male, Female)\n",
    "- age : Patient's age in years\n",
    "- hypertension : Presence of hypertension (1: Yes, 0: No)\n",
    "- heart_disease : Presence of heart disease (1: Yes, 0: No)\n",
    "- ever_married : Marital status of the patient (Yes, No)\n",
    "- work_type : Type of work the patient is engaged in (Private, Self-employed, Govt_job, children, Never_worked)\n",
    "- Residence_type : Type of residence area (Urban, Rural)\n",
    "\n",
    "Health Indicators \n",
    "- avg_glucose_level : Average glucose level in blood\n",
    "- bmi : Body Mass Index (weight in kg / height in meters squared) – Some values are missing (N/A)\n",
    "- smoking_status : Smoking habits of the patient (formerly smoked, never smoked, smokes, Unknown)\n",
    " \n",
    "Stroke Outcome\n",
    "- stroke : Indicates whether the patient had a stroke (1: Yes, 0: No)"
   ]
  }
 ],
 "metadata": {
  "kernelspec": {
   "display_name": "Python 3 (ipykernel)",
   "language": "python",
   "name": "python3"
  },
  "language_info": {
   "codemirror_mode": {
    "name": "ipython",
    "version": 3
   },
   "file_extension": ".py",
   "mimetype": "text/x-python",
   "name": "python",
   "nbconvert_exporter": "python",
   "pygments_lexer": "ipython3",
   "version": "3.11.4"
  }
 },
 "nbformat": 4,
 "nbformat_minor": 5
}
