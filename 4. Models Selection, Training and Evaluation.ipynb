{
 "cells": [
  {
   "cell_type": "code",
   "execution_count": null,
   "id": "e6108c28",
   "metadata": {},
   "outputs": [],
   "source": [
    "import pandas as pd\n",
    "import numpy as np\n",
    "import seaborn as sns\n",
    "import matplotlib.pyplot as plt\n",
    "import warnings\n",
    "from datetime import datetime\n",
    "\n",
    "from sklearn.preprocessing import MinMaxScaler\n",
    "from sklearn.model_selection import train_test_split, GridSearchCV\n",
    "from sklearn.ensemble import RandomForestClassifier\n",
    "from sklearn import metrics\n",
    "from sklearn.linear_model import LogisticRegression\n",
    "from sklearn.svm import SVC\n",
    "from sklearn.tree import DecisionTreeClassifier\n",
    "from sklearn.neighbors import KNeighborsClassifier"
   ]
  },
  {
   "cell_type": "markdown",
   "id": "89380aeb",
   "metadata": {},
   "source": [
    "Load Cleaned Dataset"
   ]
  },
  {
   "cell_type": "code",
   "execution_count": null,
   "id": "17f3d189",
   "metadata": {},
   "outputs": [],
   "source": [
    "data = pd.read_csv('cleaned_healthcare_data.csv')"
   ]
  },
  {
   "cell_type": "markdown",
   "id": "2af0d9ca",
   "metadata": {},
   "source": [
    "Split X(features) and Y(target variable) for training"
   ]
  },
  {
   "cell_type": "code",
   "execution_count": null,
   "id": "2cdad0a6",
   "metadata": {},
   "outputs": [],
   "source": [
    "X_temp = data.drop(columns='stroke')\n",
    "y = data.stroke\n",
    "\n",
    "scaler = MinMaxScaler().fit_transform(X_temp)\n",
    "X = pd.DataFrame(scaler, columns=X_temp.columns)\n",
    "X.describe()"
   ]
  },
  {
   "cell_type": "code",
   "execution_count": null,
   "id": "48dfb32c",
   "metadata": {},
   "outputs": [],
   "source": [
    "def plot_confusion_matrix(y_test, y_prediction):\n",
    "    cm = metrics.confusion_matrix(y_test, y_prediction)\n",
    "    ax = plt.subplot()\n",
    "    ax = sns.heatmap(cm, annot=True, fmt='', cmap=\"Greens\")\n",
    "    ax.set_xlabel('Prediced labels')\n",
    "    ax.set_ylabel('True labels')\n",
    "    ax.set_title('Confusion Matrix')\n",
    "    ax.xaxis.set_ticklabels(['Dont Had Stroke', 'Had Stroke'])\n",
    "    ax.yaxis.set_ticklabels(['Dont Had Stroke', 'Had Stroke']) \n",
    "    plt.show()"
   ]
  },
  {
   "cell_type": "code",
   "execution_count": null,
   "id": "e035b3c1",
   "metadata": {},
   "outputs": [],
   "source": [
    "X_train, X_test, y_train, y_test = train_test_split(X, y, random_state=0, test_size=0.25)"
   ]
  },
  {
   "cell_type": "markdown",
   "id": "9329dd86",
   "metadata": {},
   "source": [
    "Random Forest Classifier"
   ]
  },
  {
   "cell_type": "code",
   "execution_count": null,
   "id": "a5326f55",
   "metadata": {},
   "outputs": [],
   "source": [
    "# a dictionary to define parameters to test in algorithm\n",
    "parameters = {\n",
    "    'n_estimators' : [50, 100, 250, 500],\n",
    "    'criterion' : ['gini', 'entropy', 'log_loss'],\n",
    "    'max_features' : ['sqrt', 'log2']\n",
    "}\n",
    "\n",
    "rf = RandomForestClassifier(n_jobs=-1)\n",
    "rf_cv = GridSearchCV(estimator=rf, cv=10, param_grid=parameters).fit(X_train, y_train)\n",
    "\n",
    "print('Tuned hyper parameters : ', rf_cv.best_params_)\n",
    "print('accuracy : ', rf_cv.best_score_)"
   ]
  },
  {
   "cell_type": "code",
   "execution_count": null,
   "id": "166d77fb",
   "metadata": {},
   "outputs": [],
   "source": [
    "# calculate time befor run algorithm\n",
    "t1 = datetime.now()\n",
    "# Model :\n",
    "rf = RandomForestClassifier(**rf_cv.best_params_).fit(X_train, y_train)\n",
    "# calculate time after run algorithm\n",
    "t2 = datetime.now()"
   ]
  },
  {
   "cell_type": "code",
   "execution_count": null,
   "id": "122372a3",
   "metadata": {},
   "outputs": [],
   "source": [
    "y_pred_rf = rf.predict(X_test)\n",
    "\n",
    "rf_score = round(rf.score(X_test, y_test), 3)\n",
    "print('RandomForestClassifier score : ', rf_score)"
   ]
  },
  {
   "cell_type": "code",
   "execution_count": null,
   "id": "a05dc2eb",
   "metadata": {},
   "outputs": [],
   "source": [
    "delta = t2-t1\n",
    "delta_rf = round(delta.total_seconds(), 3)\n",
    "print('RandomForestClassifier takes : ', delta_rf, 'Seconds')"
   ]
  },
  {
   "cell_type": "code",
   "execution_count": null,
   "id": "ff160e43",
   "metadata": {},
   "outputs": [],
   "source": [
    "plot_confusion_matrix(y_test, y_pred_rf)"
   ]
  },
  {
   "cell_type": "code",
   "execution_count": null,
   "id": "75e9e1a1",
   "metadata": {},
   "outputs": [],
   "source": [
    "cr = metrics.classification_report(y_test, y_pred_rf)\n",
    "print(cr)"
   ]
  },
  {
   "cell_type": "markdown",
   "id": "b3adf037",
   "metadata": {},
   "source": [
    "Logistic Regression"
   ]
  },
  {
   "cell_type": "code",
   "execution_count": null,
   "id": "fb56cef9",
   "metadata": {},
   "outputs": [],
   "source": [
    "# a dictionary to define parameters to test in algorithm\n",
    "parameters = {\n",
    "    'C' : [0.001, 0.01, 0.1, 1.0, 10, 100, 1000],\n",
    "    'class_weight' : ['balanced'],\n",
    "    'solver' : ['lbfgs', 'liblinear', 'newton-cg', 'newton-cholesky', 'sag', 'saga']\n",
    "}\n",
    "\n",
    "lr = LogisticRegression()\n",
    "lr_cv = GridSearchCV(estimator=lr, param_grid=parameters, cv=10).fit(X_train, y_train)\n",
    "\n",
    "print('Tuned hyper parameters : ', lr_cv.best_params_)\n",
    "print('accuracy : ', lr_cv.best_score_)"
   ]
  },
  {
   "cell_type": "code",
   "execution_count": null,
   "id": "e8d24030",
   "metadata": {},
   "outputs": [],
   "source": [
    "# Calculate time befor run algorithm\n",
    "t1 = datetime.now()\n",
    "# Model\n",
    "lr = LogisticRegression(**lr_cv.best_params_).fit(X_train, y_train)\n",
    "# Calculate time after run algorithm\n",
    "t2 = datetime.now()"
   ]
  },
  {
   "cell_type": "code",
   "execution_count": null,
   "id": "309cfe87",
   "metadata": {},
   "outputs": [],
   "source": [
    "y_pred_lr = lr.predict(X_test)\n",
    "\n",
    "lr_score = round(lr.score(X_test, y_test), 3)\n",
    "print('LogisticRegression score : ', lr_score)"
   ]
  },
  {
   "cell_type": "code",
   "execution_count": null,
   "id": "093b5656",
   "metadata": {},
   "outputs": [],
   "source": [
    "delta = t2-t1\n",
    "delta_lr = round(delta.total_seconds(), 3)\n",
    "print('LogisticRegression takes : ', delta_lr, 'Seconds')"
   ]
  },
  {
   "cell_type": "code",
   "execution_count": null,
   "id": "dbae33b7",
   "metadata": {},
   "outputs": [],
   "source": [
    "plot_confusion_matrix(y_test, y_pred_lr)"
   ]
  },
  {
   "cell_type": "code",
   "execution_count": null,
   "id": "631d0831",
   "metadata": {},
   "outputs": [],
   "source": [
    "cr = metrics.classification_report(y_test, y_pred_lr)\n",
    "print(cr)"
   ]
  },
  {
   "cell_type": "markdown",
   "id": "e68cf2c1",
   "metadata": {},
   "source": [
    "Decision Tree Classifier"
   ]
  },
  {
   "cell_type": "code",
   "execution_count": null,
   "id": "8e540ced",
   "metadata": {},
   "outputs": [],
   "source": [
    "# a dictionary to define parameters to test in algorithm\n",
    "parameters = {\n",
    "    'criterion' : ['gini', 'entropy', 'log_loss'],\n",
    "    'splitter' : ['best', 'random'],\n",
    "    'max_depth' : list(np.arange(4, 30, 1))\n",
    "        }\n",
    "\n",
    "\n",
    "\n",
    "tree = DecisionTreeClassifier()\n",
    "tree_cv = GridSearchCV(estimator=tree, cv=10, param_grid=parameters).fit(X_train, y_train)\n",
    "\n",
    "\n",
    "\n",
    "print('Tuned hyper parameters : ', tree_cv.best_params_)\n",
    "print('accuracy : ', tree_cv.best_score_)"
   ]
  },
  {
   "cell_type": "code",
   "execution_count": null,
   "id": "ea141e5e",
   "metadata": {},
   "outputs": [],
   "source": [
    "# Calculate time befor run algorithm :\n",
    "t1 = datetime.now()\n",
    "# Model :\n",
    "tree = DecisionTreeClassifier(**tree_cv.best_params_).fit(X_train, y_train)\n",
    "# Calculate time after run algorithm :\n",
    "t2 = datetime.now()"
   ]
  },
  {
   "cell_type": "code",
   "execution_count": null,
   "id": "3d5c627c",
   "metadata": {},
   "outputs": [],
   "source": [
    "y_pred_tree = tree.predict(X_test)\n",
    "\n",
    "tree_score = round(tree.score(X_test, y_test), 3)\n",
    "print('DecisionTreeClassifier Score : ', tree_score)"
   ]
  },
  {
   "cell_type": "code",
   "execution_count": null,
   "id": "951c0d73",
   "metadata": {},
   "outputs": [],
   "source": [
    "delta = t2-t1\n",
    "delta_tree = round(delta.total_seconds(), 3)\n",
    "print('DecisionTreeClassifier takes : ', delta_tree, 'Seconds')"
   ]
  },
  {
   "cell_type": "code",
   "execution_count": null,
   "id": "3e1def9c",
   "metadata": {},
   "outputs": [],
   "source": [
    "plot_confusion_matrix(y_test, y_pred_tree)"
   ]
  },
  {
   "cell_type": "code",
   "execution_count": null,
   "id": "c98c1850",
   "metadata": {},
   "outputs": [],
   "source": [
    "\n",
    "\n",
    "# Assuming y_test and y_pred_tree are already defined\n",
    "cr = metrics.classification_report(y_test, y_pred_tree, zero_division=0)  # Here, setting precision to 0 for classes with no predictions\n",
    "print(cr)"
   ]
  },
  {
   "cell_type": "markdown",
   "id": "ad652075",
   "metadata": {},
   "source": [
    "KNeighbors Classifier"
   ]
  },
  {
   "cell_type": "code",
   "execution_count": null,
   "id": "947cd3af",
   "metadata": {},
   "outputs": [],
   "source": [
    "#KNeighborsClassifier\n",
    "# a dictionary to define parameters to test in algorithm\n",
    "parameters = {\n",
    "    'n_neighbors' : list(np.arange(3, 20, 2)),\n",
    "    'p' : [1, 2, 3, 4]\n",
    "}\n",
    "\n",
    "# calculate time to run in second\n",
    "t1 = datetime.now()\n",
    "\n",
    "knn = KNeighborsClassifier()\n",
    "knn_cv = GridSearchCV(estimator=knn, cv=10, param_grid=parameters).fit(X_train, y_train)\n",
    "\n",
    "t2 = datetime.now()\n",
    "\n",
    "print('Tuned hyper parameters : ', knn_cv.best_params_)\n",
    "print('accuracy : ', knn_cv.best_score_)"
   ]
  },
  {
   "cell_type": "code",
   "execution_count": null,
   "id": "4d23d906",
   "metadata": {},
   "outputs": [],
   "source": [
    "# Calculate time befor run algorithm :\n",
    "t1 = datetime.now()\n",
    "# Model :\n",
    "knn = KNeighborsClassifier(**knn_cv.best_params_).fit(X_train, y_train)\n",
    "# Calculate time after run algorithm :\n",
    "t2 = datetime.now()"
   ]
  },
  {
   "cell_type": "code",
   "execution_count": null,
   "id": "e2d7ae4d",
   "metadata": {},
   "outputs": [],
   "source": [
    "y_pred_knn = knn_cv.predict(X_test)\n",
    "\n",
    "knn_score = round(knn.score(X_test, y_test), 3)\n",
    "print('KNeighborsClassifier Score :', knn_score)"
   ]
  },
  {
   "cell_type": "code",
   "execution_count": null,
   "id": "732c7e66",
   "metadata": {},
   "outputs": [],
   "source": [
    "delta = t2-t1\n",
    "delta_knn = round(delta.total_seconds(), 3)\n",
    "print('KNeighborsClassifier takes : ', delta_knn, 'Seconds')"
   ]
  },
  {
   "cell_type": "code",
   "execution_count": null,
   "id": "ea214a80",
   "metadata": {},
   "outputs": [],
   "source": [
    "plot_confusion_matrix(y_test, y_pred_knn)"
   ]
  },
  {
   "cell_type": "code",
   "execution_count": null,
   "id": "0c3156fc",
   "metadata": {},
   "outputs": [],
   "source": [
    "cr = metrics.classification_report(y_test, y_pred_knn)\n",
    "print(cr)"
   ]
  },
  {
   "cell_type": "code",
   "execution_count": null,
   "id": "2586ed4b",
   "metadata": {},
   "outputs": [],
   "source": [
    "result = pd.DataFrame({\n",
    "    'Algorithm' : ['RandomForestClassifier', 'LogisticRegression', 'DecisionTreeClassifier', 'KNeighborsClassifier'],\n",
    "    'Score' : [rf_score, lr_score, tree_score, knn_score],\n",
    "    'Delta_t' : [delta_rf, delta_lr, delta_tree, delta_knn]\n",
    "})\n",
    "\n",
    "result"
   ]
  },
  {
   "cell_type": "code",
   "execution_count": null,
   "id": "8c9cbe94",
   "metadata": {},
   "outputs": [],
   "source": [
    "\n",
    "\n",
    "# Create subplots\n",
    "fig, ax = plt.subplots(1, 2, figsize=(15, 5))\n",
    "\n",
    "# First bar plot: Score\n",
    "sns.barplot(x='Algorithm', y='Score', data=result, ax=ax[0], palette=\"Set2\", hue='Algorithm', legend=False)\n",
    "ax[0].bar_label(ax[0].containers[0], fmt='%.3f')\n",
    "ax[0].set_xticks(range(len(result.Algorithm)))  # Set fixed tick positions\n",
    "ax[0].set_xticklabels(labels=result.Algorithm, rotation=30)\n",
    "\n",
    "# Second bar plot: Delta_t\n",
    "sns.barplot(x='Algorithm', y='Delta_t', data=result, ax=ax[1], palette=\"Set2\", hue='Algorithm', legend=False)\n",
    "ax[1].bar_label(ax[1].containers[0], fmt='%.3f')\n",
    "ax[1].set_xticks(range(len(result.Algorithm)))  # Set fixed tick positions\n",
    "ax[1].set_xticklabels(labels=result.Algorithm, rotation=30)\n",
    "\n",
    "# Display the plots\n",
    "plt.tight_layout()\n",
    "plt.show()"
   ]
  },
  {
   "cell_type": "markdown",
   "id": "e6a29cc4",
   "metadata": {},
   "source": [
    "Results :\n",
    "Acording to the above plots, best algorithms base on Score are :\n",
    "RandomForestClassifier\n",
    "DecisionTreeClassifier\n",
    "KNeighborsClassifier\n",
    "\n",
    "And best Algorithm base on runtime, are :\n",
    "DecisionTreeClassifie\n",
    "KNeighborsClassifier"
   ]
  },
  {
   "cell_type": "code",
   "execution_count": null,
   "id": "e8ceac32",
   "metadata": {},
   "outputs": [],
   "source": [
    "knn = KNeighborsClassifier(**knn_cv.best_params_).fit(X, y)\n",
    "knn"
   ]
  },
  {
   "cell_type": "code",
   "execution_count": null,
   "id": "e30d36ca",
   "metadata": {},
   "outputs": [],
   "source": [
    "knn.score(X, y)"
   ]
  }
 ],
 "metadata": {
  "kernelspec": {
   "display_name": "Python 3 (ipykernel)",
   "language": "python",
   "name": "python3"
  },
  "language_info": {
   "codemirror_mode": {
    "name": "ipython",
    "version": 3
   },
   "file_extension": ".py",
   "mimetype": "text/x-python",
   "name": "python",
   "nbconvert_exporter": "python",
   "pygments_lexer": "ipython3",
   "version": "3.12.7"
  }
 },
 "nbformat": 4,
 "nbformat_minor": 5
}
