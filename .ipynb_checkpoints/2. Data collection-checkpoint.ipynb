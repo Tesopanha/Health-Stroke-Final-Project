{
 "cells": [
  {
   "cell_type": "markdown",
   "id": "d395c544",
   "metadata": {},
   "source": [
    "In the process of collecting data, we take it from the Kaggle Website with the link provided below.\n",
    "This data is quite already clean, and we just do some processing to select data we want."
   ]
  },
  {
   "cell_type": "markdown",
   "id": "52b24714",
   "metadata": {},
   "source": [
    "https://www.kaggle.com/datasets/fedesoriano/stroke-prediction-dataset?resource=download \n"
   ]
  },
  {
   "cell_type": "code",
   "execution_count": 1,
   "id": "69f26444",
   "metadata": {},
   "outputs": [],
   "source": [
    "import pandas as pd\n",
    "\n",
    "# Read the tab-separated file\n",
    "data = pd.read_csv('healthcare-dataset-stroke-data.csv', sep='\\t')\n"
   ]
  }
 ],
 "metadata": {
  "kernelspec": {
   "display_name": "newenv",
   "language": "python",
   "name": "python3"
  },
  "language_info": {
   "codemirror_mode": {
    "name": "ipython",
    "version": 3
   },
   "file_extension": ".py",
   "mimetype": "text/x-python",
   "name": "python",
   "nbconvert_exporter": "python",
   "pygments_lexer": "ipython3",
   "version": "3.12.2"
  }
 },
 "nbformat": 4,
 "nbformat_minor": 5
}
