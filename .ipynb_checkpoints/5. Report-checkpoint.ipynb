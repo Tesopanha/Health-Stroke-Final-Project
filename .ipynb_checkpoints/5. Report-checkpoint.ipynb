{
 "cells": [
  {
   "cell_type": "markdown",
   "id": "5101b661",
   "metadata": {},
   "source": [
    "# Model Training and Evaluation Report\n",
    "\n",
    "---\n",
    "\n",
    "In this project, we applied various machine learning models to predict stroke occurrences based on the available healthcare data. The primary focus was to evaluate the performance of different classifiers, including **RandomForestClassifier**, **LogisticRegression**, **DecisionTreeClassifier**, and **KNeighborsClassifier**, on the imbalanced dataset and to compare their ability to predict stroke cases (class 1) versus non-stroke cases (class 0).\n",
    "\n",
    "---\n",
    "\n",
    "## **Model Evaluation:**\n",
    "\n",
    "### **1. RandomForestClassifier:**\n",
    "\n",
    "```python\n",
    "# Hyperparameters and evaluation for RandomForestClassifier\n",
    "Tuned_hyperparameters = {'criterion': 'log_loss', 'max_features': 'sqrt', 'n_estimators': 100}\n",
    "accuracy = 0.956\n",
    "time_taken = 0.369  # seconds\n",
    "```\n",
    "\n",
    "### **2. LogisticRegression:**\n",
    "```python\n",
    "# Hyperparameters and evaluation for LogisticRegression\n",
    "Tuned_hyperparameters = {'C': 100, 'class_weight': 'balanced', 'solver': 'saga'}\n",
    "accuracy = 0.638\n",
    "time_taken = 0.052  # seconds\n",
    "```\n",
    "\n",
    "### **3. DecisionTreeClassifier:**\n",
    "```python\n",
    "# Hyperparameters and evaluation for DecisionTreeClassifier\n",
    "Tuned_hyperparameters = {'criterion': 'entropy', 'max_depth': np.int64(4), 'splitter': 'random'}\n",
    "accuracy = 0.956\n",
    "time_taken = 0.003  # seconds\n",
    "```\n",
    "\n",
    "### **4. KNN:**\n",
    "```python\n",
    "# Hyperparameters and evaluation for KNeighborsClassifier\n",
    "Tuned_hyperparameters = {'n_neighbors': np.int64(11), 'p': 1}\n",
    "accuracy = 0.957\n",
    "time_taken = 0.012  # seconds\n",
    "```\n",
    "\n",
    "\n",
    "## Conclusion and Recommendations:\n",
    "### **Key Findings:**\n",
    "* All models exhibited high accuracy for classifying non-stroke cases (class 0), but their performance on stroke cases (class 1) was poor due to the imbalance in the dataset.\n",
    "* The models showed a bias towards the majority class (non-stroke), resulting in low precision and recall for the minority class (stroke)."
   ]
  }
 ],
 "metadata": {
  "kernelspec": {
   "display_name": "Python 3 (ipykernel)",
   "language": "python",
   "name": "python3"
  },
  "language_info": {
   "codemirror_mode": {
    "name": "ipython",
    "version": 3
   },
   "file_extension": ".py",
   "mimetype": "text/x-python",
   "name": "python",
   "nbconvert_exporter": "python",
   "pygments_lexer": "ipython3",
   "version": "3.11.4"
  }
 },
 "nbformat": 4,
 "nbformat_minor": 5
}
